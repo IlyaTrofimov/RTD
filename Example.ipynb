{
 "cells": [
  {
      "cell_type": "markdown",
      "metadata": {
        "id": "view-in-github",
        "colab_type": "text"
      },
      "source": [
        "<a href=\"https://colab.research.google.com/github/IlyaTrofimov/RTD/blob/master/Example.ipynb\" target=\"_parent\"><img src=\"https://colab.research.google.com/assets/colab-badge.svg\" alt=\"Open In Colab\"/></a>"
      ]
   },
  {
   "cell_type": "code",
   "execution_count": 1,
   "metadata": {},
   "outputs": [],
   "source": [
    "#\n",
    "# Uncomment and run for Google Colab.\n",
    "# 1. Set the GPU runtime before installation\n",
    "# 2. Restart the runtime after installation\n",
    "#\n",
    "#!pip install git+https://github.com/simonzhang00/ripser-plusplus.git\n",
    "#!pip install git+https://github.com/IlyaTrofimov/RTD.git"
   ]
  },
  {
   "cell_type": "code",
   "execution_count": 2,
   "metadata": {},
   "outputs": [],
   "source": [
    "# \n",
    "# create synthetic point clouds\n",
    "#\n",
    "import numpy as np\n",
    "import rtd\n",
    "\n",
    "np.random.seed(7)\n",
    "P = np.random.rand(1000, 2)\n",
    "Q = np.random.rand(1000, 2)"
   ]
  },
  {
   "cell_type": "code",
   "execution_count": 3,
   "metadata": {
    "scrolled": false
   },
   "outputs": [
    {
     "name": "stdout",
     "output_type": "stream",
     "text": [
      "H0: num barcodes 0\n",
      "H1: num barcodes 1219\n",
      "max0,976Barcode 1 = 0.10457093082368374\n",
      "maxBarcode 1 = 0.15257642325013876\n",
      "middleBarcode 1 = 0.05195973068475723\n"
     ]
    },
    {
     "data": {
      "image/png": "[encoded data removed]",
      "text/plain": [
       "<Figure size 432x288 with 1 Axes>"
      ]
     },
     "metadata": {
      "needs_background": "light"
     },
     "output_type": "display_data"
    }
   ],
   "source": [
    "# \n",
    "# calculate and plot R-Cross-Barcode\n",
    "#\n",
    "barc = rtd.calc_embed_dist(P, Q)\n",
    "rtd.plot_barcodes(rtd.barc2array(barc))"
   ]
  },
  {
   "cell_type": "code",
   "execution_count": 4,
   "metadata": {},
   "outputs": [
    {
     "data": {
      "text/plain": [
       "35.55234398557805"
      ]
     },
     "execution_count": 4,
     "metadata": {},
     "output_type": "execute_result"
    }
   ],
   "source": [
    "#\n",
    "# Calculate RTD\n",
    "#\n",
    "rtd.rtd(P, Q)"
   ]
  }
 ],
 "metadata": {
  "kernelspec": {
   "display_name": "Python 3",
   "language": "python",
   "name": "python3"
  },
  "language_info": {
   "codemirror_mode": {
    "name": "ipython",
    "version": 3
   },
   "file_extension": ".py",
   "mimetype": "text/x-python",
   "name": "python",
   "nbconvert_exporter": "python",
   "pygments_lexer": "ipython3",
   "version": "3.7.10"
  }
 },
 "nbformat": 4,
 "nbformat_minor": 4
}
