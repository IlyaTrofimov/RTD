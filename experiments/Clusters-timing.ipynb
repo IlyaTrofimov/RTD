{
 "cells": [
  {
   "cell_type": "code",
   "execution_count": 1,
   "metadata": {},
   "outputs": [],
   "source": [
    "import os\n",
    "import sys"
   ]
  },
  {
   "cell_type": "code",
   "execution_count": 2,
   "metadata": {},
   "outputs": [],
   "source": [
    "os.environ['CUDA_VISIBLE_DEVICES'] = '3'"
   ]
  },
  {
   "cell_type": "code",
   "execution_count": 3,
   "metadata": {},
   "outputs": [],
   "source": [
    "from sklearn.metrics.pairwise import pairwise_distances\n",
    "import numpy as np\n",
    "import matplotlib.pyplot as plt\n",
    "import sklearn\n",
    "from scipy import stats\n",
    "from tqdm.notebook import tqdm\n",
    "%matplotlib inline"
   ]
  },
  {
   "cell_type": "code",
   "execution_count": 4,
   "metadata": {},
   "outputs": [],
   "source": [
    "import barcodes"
   ]
  },
  {
   "cell_type": "code",
   "execution_count": 5,
   "metadata": {
    "scrolled": true
   },
   "outputs": [],
   "source": [
    "import pickle\n",
    "from cka import cka\n",
    "from msid import msid_score\n",
    "from svcca import svcca\n",
    "\n",
    "def msid_score_n(a, b, n):\n",
    "    total = 0.0\n",
    "    for _ in range(n):\n",
    "        total += msid_score(a, b)\n",
    "    return total / n"
   ]
  },
  {
   "cell_type": "markdown",
   "metadata": {},
   "source": [
    "### Exp many clusters"
   ]
  },
  {
   "cell_type": "code",
   "execution_count": 6,
   "metadata": {},
   "outputs": [],
   "source": [
    "np.random.seed(7)\n",
    "\n",
    "all_clusters = []\n",
    "\n",
    "for i in range(60):\n",
    "    all_clusters.append(np.random.multivariate_normal(np.zeros(2), np.eye(2), 5))\n",
    "    \n",
    "A_base = np.concatenate(all_clusters)"
   ]
  },
  {
   "cell_type": "code",
   "execution_count": 7,
   "metadata": {},
   "outputs": [],
   "source": [
    "def split2clusters(k):\n",
    "    \n",
    "    if k == 1:\n",
    "        return A_base\n",
    "    \n",
    "    arr = []\n",
    "    \n",
    "    for i in range(60):\n",
    "        idx = i % k\n",
    "    \n",
    "        theta = 2 * np.pi * idx / k\n",
    "        d = np.array([np.cos(theta), np.sin(theta)]) * 10\n",
    "        \n",
    "        arr.append(all_clusters[i] + d)\n",
    "        \n",
    "    A_mod = np.concatenate(arr)\n",
    "    \n",
    "    return A_mod"
   ]
  },
  {
   "cell_type": "code",
   "execution_count": 8,
   "metadata": {},
   "outputs": [
    {
     "data": {
      "image/png": "[encoded data removed]",
      "text/plain": [
       "<Figure size 864x100.8 with 8 Axes>"
      ]
     },
     "metadata": {
      "needs_background": "light"
     },
     "output_type": "display_data"
    }
   ],
   "source": [
    "ALL = [2, 3, 4, 5, 6, 10, 12]\n",
    "\n",
    "fig, ax = plt.subplots(1, len(ALL) + 1)\n",
    "fig.set_size_inches(12, 1.4)\n",
    "\n",
    "for idx, k in enumerate([0] + ALL):\n",
    "    \n",
    "    if idx == 0:\n",
    "        A = A_base\n",
    "    else:\n",
    "        A = split2clusters(k)\n",
    "\n",
    "    ax[idx].scatter(x = A[:,0], y = A[:,1], s = 2)\n",
    "    ax[idx].set_xlim(-15, 15)\n",
    "    ax[idx].set_ylim(-15, 15)\n",
    "    \n",
    "for ax in fig.get_axes():\n",
    "    ax.label_outer()"
   ]
  },
  {
   "cell_type": "code",
   "execution_count": 9,
   "metadata": {},
   "outputs": [
    {
     "name": "stdout",
     "output_type": "stream",
     "text": [
      "CPU times: user 1min 55s, sys: 11.8 s, total: 2min 7s\n",
      "Wall time: 19.7 s\n"
     ]
    }
   ],
   "source": [
    "%%time\n",
    "\n",
    "for i, k in enumerate(ALL):\n",
    "    A_mod = split2clusters(k)\n",
    "    barc = barcodes.calc_embed_dist(A_base, A_mod, norm = 'quantile')\n",
    "    barc = barcodes.calc_embed_dist(A_mod, A_base, norm = 'quantile')"
   ]
  },
  {
   "cell_type": "code",
   "execution_count": 11,
   "metadata": {},
   "outputs": [
    {
     "name": "stdout",
     "output_type": "stream",
     "text": [
      "CPU times: user 2.33 s, sys: 172 ms, total: 2.5 s\n",
      "Wall time: 65.8 ms\n"
     ]
    }
   ],
   "source": [
    "%%time\n",
    "\n",
    "for i, k in enumerate(ALL):\n",
    "    A_mod = split2clusters(k)\n",
    "    cka(A_base, A_mod)"
   ]
  },
  {
   "cell_type": "code",
   "execution_count": 12,
   "metadata": {},
   "outputs": [
    {
     "name": "stdout",
     "output_type": "stream",
     "text": [
      "CPU times: user 1min 23s, sys: 97.9 ms, total: 1min 23s\n",
      "Wall time: 1min 23s\n"
     ]
    }
   ],
   "source": [
    "%%time\n",
    "\n",
    "for i, k in enumerate(ALL):\n",
    "    A_mod = split2clusters(k)\n",
    "    msid_score_n(A_base, A_mod, 100)"
   ]
  },
  {
   "cell_type": "code",
   "execution_count": 13,
   "metadata": {},
   "outputs": [
    {
     "name": "stdout",
     "output_type": "stream",
     "text": [
      "CPU times: user 993 ms, sys: 121 ms, total: 1.11 s\n",
      "Wall time: 31.9 ms\n"
     ]
    }
   ],
   "source": [
    "%%time\n",
    "\n",
    "for i, k in enumerate(ALL):\n",
    "    A_mod = split2clusters(k)   \n",
    "    svcca(A_base.T, A_mod.T)"
   ]
  }
 ],
 "metadata": {
  "kernelspec": {
   "display_name": "Python 3",
   "language": "python",
   "name": "python3"
  },
  "language_info": {
   "codemirror_mode": {
    "name": "ipython",
    "version": 3
   },
   "file_extension": ".py",
   "mimetype": "text/x-python",
   "name": "python",
   "nbconvert_exporter": "python",
   "pygments_lexer": "ipython3",
   "version": "3.7.10"
  }
 },
 "nbformat": 4,
 "nbformat_minor": 4
}
