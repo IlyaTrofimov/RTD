{
 "cells": [
  {
   "cell_type": "code",
   "execution_count": 1,
   "metadata": {},
   "outputs": [],
   "source": [
    "import os\n",
    "import sys\n",
    "from sklearn.metrics.pairwise import pairwise_distances\n",
    "import numpy as np\n",
    "import matplotlib.pyplot as plt\n",
    "import sklearn\n",
    "from scipy import stats\n",
    "from tqdm.notebook import tqdm\n",
    "%matplotlib inline"
   ]
  },
  {
   "cell_type": "code",
   "execution_count": 2,
   "metadata": {
    "scrolled": true
   },
   "outputs": [],
   "source": [
    "import pickle\n",
    "from cka import cka"
   ]
  },
  {
   "cell_type": "markdown",
   "metadata": {},
   "source": [
    "### Exp many clusters"
   ]
  },
  {
   "cell_type": "code",
   "execution_count": 3,
   "metadata": {},
   "outputs": [],
   "source": [
    "np.random.seed(7)\n",
    "\n",
    "all_clusters = []\n",
    "\n",
    "for i in range(60):\n",
    "    all_clusters.append(np.random.multivariate_normal(np.zeros(2), np.eye(2), 5))\n",
    "    \n",
    "A_base = np.concatenate(all_clusters)"
   ]
  },
  {
   "cell_type": "code",
   "execution_count": 4,
   "metadata": {},
   "outputs": [],
   "source": [
    "def split2clusters(k):\n",
    "    \n",
    "    if k == 1:\n",
    "        return A_base\n",
    "    \n",
    "    arr = []\n",
    "    \n",
    "    for i in range(60):\n",
    "        idx = i % k\n",
    "    \n",
    "        theta = 2 * np.pi * idx / k\n",
    "        d = np.array([np.cos(theta), np.sin(theta)]) * 10\n",
    "        \n",
    "        arr.append(all_clusters[i] + d)\n",
    "        \n",
    "    A_mod = np.concatenate(arr)\n",
    "    \n",
    "    return A_mod"
   ]
  },
  {
   "cell_type": "code",
   "execution_count": 10,
   "metadata": {},
   "outputs": [],
   "source": [
    "def hsic_rbf(P, Q, sigma_coeff = 0.2):\n",
    "    K = pairwise_distances(P, P)\n",
    "    L = pairwise_distances(Q, Q)\n",
    "    \n",
    "    sigma_p = sigma_coeff * np.median(K)\n",
    "    sigma_q = sigma_coeff * np.median(L)\n",
    "\n",
    "    K = np.exp(-K**2 / 2 / (sigma_p**2))\n",
    "    L = np.exp(-L**2 / 2 / (sigma_q**2))\n",
    "    \n",
    "    n = P.shape[0]\n",
    "    H = np.eye(n) - np.ones((n, n)) / n\n",
    "\n",
    "    return np.trace(K @ H @ L @ H) / (n-1)**2"
   ]
  },
  {
   "cell_type": "code",
   "execution_count": 29,
   "metadata": {},
   "outputs": [],
   "source": [
    "def cka_rbf(P, Q, sigma_coeff = 0.2):\n",
    "    return hsic_rbf(P, Q, sigma_coeff = sigma_coeff) / np.sqrt(hsic_rbf(P, P, sigma_coeff = sigma_coeff) * hsic_rbf(Q, Q, sigma_coeff = sigma_coeff))"
   ]
  },
  {
   "cell_type": "code",
   "execution_count": 33,
   "metadata": {},
   "outputs": [
    {
     "data": {
      "text/plain": [
       "0.003139285659922822"
      ]
     },
     "execution_count": 33,
     "metadata": {},
     "output_type": "execute_result"
    }
   ],
   "source": [
    "hsic_rbf(A_base + np.array((1, 3)), A_mod)"
   ]
  },
  {
   "cell_type": "code",
   "execution_count": 12,
   "metadata": {},
   "outputs": [
    {
     "data": {
      "image/png": "[encoded data removed]",
      "text/plain": [
       "<Figure size 864x100.8 with 8 Axes>"
      ]
     },
     "metadata": {
      "needs_background": "light"
     },
     "output_type": "display_data"
    }
   ],
   "source": [
    "ALL = [2, 3, 4, 5, 6, 10, 12]\n",
    "\n",
    "fig, ax = plt.subplots(1, len(ALL) + 1)\n",
    "fig.set_size_inches(12, 1.4)\n",
    "\n",
    "for idx, k in enumerate([0] + ALL):\n",
    "    \n",
    "    if idx == 0:\n",
    "        A = A_base\n",
    "    else:\n",
    "        A = split2clusters(k)\n",
    "\n",
    "    ax[idx].scatter(x = A[:,0], y = A[:,1], s = 2)\n",
    "    ax[idx].set_xlim(-15, 15)\n",
    "    ax[idx].set_ylim(-15, 15)\n",
    "    \n",
    "for ax in fig.get_axes():\n",
    "    ax.label_outer()"
   ]
  },
  {
   "cell_type": "code",
   "execution_count": 54,
   "metadata": {
    "scrolled": true
   },
   "outputs": [],
   "source": [
    "res_cka = []\n",
    "\n",
    "barcs1 = []\n",
    "barcs2 = []\n",
    "\n",
    "for i, k in enumerate(ALL):\n",
    "    \n",
    "    A_mod = split2clusters(k)\n",
    "    res_cka.append(cka_rbf(A_base, A_mod, sigma_coeff = 0.2))"
   ]
  },
  {
   "cell_type": "code",
   "execution_count": 55,
   "metadata": {},
   "outputs": [
    {
     "data": {
      "image/png": "[encoded data removed]",
      "text/plain": [
       "<Figure size 324x108 with 1 Axes>"
      ]
     },
     "metadata": {
      "needs_background": "light"
     },
     "output_type": "display_data"
    }
   ],
   "source": [
    "clusters_list = [2, 3, 4, 5, 6, 10, 12]\n",
    "\n",
    "fig, ax = plt.subplots(1, 1)\n",
    "\n",
    "fig.set_size_inches((4.5, 1.5))\n",
    "ax.set_xlabel('#clusters')\n",
    "#ax.set_ylim(0.0, 0.03)\n",
    "plt.title('CKA')\n",
    "plt.plot(clusters_list, res_cka[:len(clusters_list)], 'o-')\n",
    "plt.show()"
   ]
  },
  {
   "cell_type": "code",
   "execution_count": 56,
   "metadata": {},
   "outputs": [
    {
     "data": {
      "text/plain": [
       "0.23809523809523814"
      ]
     },
     "execution_count": 56,
     "metadata": {},
     "output_type": "execute_result"
    }
   ],
   "source": [
    "stats.kendalltau(res_cka, clusters_list).correlation"
   ]
  }
 ],
 "metadata": {
  "kernelspec": {
   "display_name": "Python 3",
   "language": "python",
   "name": "python3"
  },
  "language_info": {
   "codemirror_mode": {
    "name": "ipython",
    "version": 3
   },
   "file_extension": ".py",
   "mimetype": "text/x-python",
   "name": "python",
   "nbconvert_exporter": "python",
   "pygments_lexer": "ipython3",
   "version": "3.7.10"
  }
 },
 "nbformat": 4,
 "nbformat_minor": 4
}
