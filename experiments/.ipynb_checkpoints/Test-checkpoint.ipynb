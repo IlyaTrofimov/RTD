{
 "cells": [
  {
   "cell_type": "code",
   "execution_count": 1,
   "metadata": {},
   "outputs": [],
   "source": [
    "import os\n",
    "import sys"
   ]
  },
  {
   "cell_type": "code",
   "execution_count": 2,
   "metadata": {},
   "outputs": [],
   "source": [
    "os.environ['CUDA_VISIBLE_DEVICES'] = '0'"
   ]
  },
  {
   "cell_type": "code",
   "execution_count": 3,
   "metadata": {},
   "outputs": [],
   "source": [
    "from sklearn.metrics.pairwise import pairwise_distances\n",
    "import numpy as np\n",
    "import matplotlib.pyplot as plt\n",
    "import sklearn\n",
    "from scipy import stats\n",
    "from tqdm.notebook import tqdm\n",
    "%matplotlib inline"
   ]
  },
  {
   "cell_type": "code",
   "execution_count": 4,
   "metadata": {},
   "outputs": [],
   "source": [
    "import barcodes"
   ]
  },
  {
   "cell_type": "code",
   "execution_count": 5,
   "metadata": {},
   "outputs": [
    {
     "data": {
      "text/plain": [
       "<module 'barcodes' from '/EmbedCompare/barcodes.py'>"
      ]
     },
     "execution_count": 5,
     "metadata": {},
     "output_type": "execute_result"
    }
   ],
   "source": [
    "from importlib import reload\n",
    "reload(barcodes)"
   ]
  },
  {
   "cell_type": "code",
   "execution_count": 6,
   "metadata": {},
   "outputs": [],
   "source": [
    "#\n",
    "#  Test\n",
    "#\n",
    "import numpy as np\n",
    "import barcodes\n",
    "\n",
    "np.random.seed(7)\n",
    "P = np.random.rand(1000, 100)\n",
    "Q = np.random.rand(1000, 100)"
   ]
  },
  {
   "cell_type": "code",
   "execution_count": 34,
   "metadata": {},
   "outputs": [
    {
     "name": "stdout",
     "output_type": "stream",
     "text": [
      "pdist on gpu start\n",
      "pairwise distances calculated\n",
      "matrix prepared\n",
      "H0: num barcodes 0\n",
      "H1: num barcodes 3904\n",
      "max0,976Barcode 1 = 0.08057469129562378\n",
      "maxBarcode 1 = 0.16321003437042236\n",
      "middleBarcode 1 = 0.01754164695739746\n"
     ]
    },
    {
     "data": {
      "image/png": "[encoded data removed]",
      "text/plain": [
       "<Figure size 432x288 with 1 Axes>"
      ]
     },
     "metadata": {
      "needs_background": "light"
     },
     "output_type": "display_data"
    }
   ],
   "source": [
    "barc = barcodes.calc_embed_dist(P, Q, pdist_device = 'cuda:0', verbose = True, fast = True)\n",
    "barcodes.plot_barcodes(barcodes.barc2array(barc), title = '')"
   ]
  },
  {
   "cell_type": "code",
   "execution_count": 8,
   "metadata": {},
   "outputs": [],
   "source": [
    "from sklearn.neighbors import NearestNeighbors"
   ]
  },
  {
   "cell_type": "code",
   "execution_count": 48,
   "metadata": {},
   "outputs": [],
   "source": [
    "nn = NearestNeighbors()\n",
    "nn.fit(P)\n",
    "Pnn = nn.kneighbors_graph()"
   ]
  },
  {
   "cell_type": "code",
   "execution_count": 50,
   "metadata": {},
   "outputs": [],
   "source": [
    "nn = NearestNeighbors(n_neighbors = 1)\n",
    "nn.fit(Q)\n",
    "Qnn = nn.kneighbors_graph()"
   ]
  },
  {
   "cell_type": "code",
   "execution_count": 57,
   "metadata": {},
   "outputs": [
    {
     "data": {
      "text/plain": [
       "<1000x1000 sparse matrix of type '<class 'numpy.float64'>'\n",
       "\twith 1000 stored elements in Compressed Sparse Row format>"
      ]
     },
     "execution_count": 57,
     "metadata": {},
     "output_type": "execute_result"
    }
   ],
   "source": [
    "Qnn"
   ]
  },
  {
   "cell_type": "code",
   "execution_count": null,
   "metadata": {},
   "outputs": [],
   "source": []
  },
  {
   "cell_type": "code",
   "execution_count": null,
   "metadata": {},
   "outputs": [],
   "source": []
  },
  {
   "cell_type": "code",
   "execution_count": null,
   "metadata": {},
   "outputs": [],
   "source": []
  },
  {
   "cell_type": "code",
   "execution_count": null,
   "metadata": {},
   "outputs": [],
   "source": []
  },
  {
   "cell_type": "code",
   "execution_count": null,
   "metadata": {},
   "outputs": [],
   "source": []
  },
  {
   "cell_type": "code",
   "execution_count": null,
   "metadata": {},
   "outputs": [],
   "source": []
  },
  {
   "cell_type": "code",
   "execution_count": null,
   "metadata": {},
   "outputs": [],
   "source": []
  },
  {
   "cell_type": "code",
   "execution_count": 46,
   "metadata": {},
   "outputs": [],
   "source": [
    "barc2 = calc_embed_dist2(P, Q)"
   ]
  },
  {
   "cell_type": "code",
   "execution_count": 47,
   "metadata": {},
   "outputs": [
    {
     "name": "stdout",
     "output_type": "stream",
     "text": [
      "H0: num barcodes 0\n",
      "H1: num barcodes 811\n",
      "max0,976Barcode 1 = 0.13760560750961304\n",
      "maxBarcode 1 = 0.20614826679229736\n",
      "middleBarcode 1 = 0.06403195858001709\n"
     ]
    },
    {
     "data": {
      "image/png": "[encoded data removed]",
      "text/plain": [
       "<Figure size 432x288 with 1 Axes>"
      ]
     },
     "metadata": {
      "needs_background": "light"
     },
     "output_type": "display_data"
    }
   ],
   "source": [
    "barcodes.plot_barcodes(barcodes.barc2array(barc2), title = '')"
   ]
  },
  {
   "cell_type": "code",
   "execution_count": null,
   "metadata": {},
   "outputs": [],
   "source": []
  },
  {
   "cell_type": "code",
   "execution_count": null,
   "metadata": {},
   "outputs": [],
   "source": []
  },
  {
   "cell_type": "code",
   "execution_count": null,
   "metadata": {},
   "outputs": [],
   "source": []
  },
  {
   "cell_type": "code",
   "execution_count": 12,
   "metadata": {},
   "outputs": [],
   "source": [
    "from sklearn.metrics.pairwise import pairwise_distances\n",
    "from copy import copy, deepcopy\n",
    "from time import time\n",
    "import numpy as np\n",
    "import matplotlib.pyplot as plt\n",
    "import torch\n",
    "import ripserplusplus as rpp_py\n",
    "from barcodes import pdist_gpu"
   ]
  },
  {
   "cell_type": "code",
   "execution_count": 40,
   "metadata": {},
   "outputs": [],
   "source": [
    "def calc_embed_dist2(a, b, dim = 1, pdist_device = 'cuda:0', verbose = False, norm = 'median', metric = 'euclidean', use_max = False, fast = False):\n",
    "\n",
    "    n = a.shape[0]\n",
    "\n",
    "    if pdist_device == 'cpu':\n",
    "        if verbose:\n",
    "            print('pdist on cpu start')\n",
    "        r1 = pairwise_distances(a, a, n_jobs = 40, metric = metric)\n",
    "        r2 = pairwise_distances(b, b, n_jobs = 40, metric = metric)\n",
    "    else:\n",
    "        if verbose:\n",
    "            print('pdist on gpu start')\n",
    "        r1 = pdist_gpu(a, a, device = pdist_device)\n",
    "        r2 = pdist_gpu(b, b, device = pdist_device)\n",
    "\n",
    "    if norm == 'median':\n",
    "        r1 = r1 / np.median(r1)\n",
    "        r2 = r2 / np.median(r2)\n",
    "    elif norm == 'quantile':\n",
    "        r1 = r1 / np.quantile(r1, 0.9)\n",
    "        r2 = r2 / np.quantile(r2, 0.9)\n",
    "    elif norm == 'mean':\n",
    "        r1 = r1 / np.mean(r1)\n",
    "        r2 = r2 / np.mean(r2)\n",
    "    else:\n",
    "        #raise ValueError('Unknown norm type')\n",
    "        pass\n",
    "\n",
    "    if verbose:\n",
    "        print('pairwise distances calculated')\n",
    "        \n",
    "    mask = np.maximum(Qnn.toarray(), Qnn.T.toarray())\n",
    "\n",
    "    \n",
    "    #r1 = np.multiply(r1, mask)\n",
    "    #r2 = np.multiply(r2, mask)\n",
    "    \n",
    "    #r1[r1 == 0] = np.inf\n",
    "    #r2[r2 == 0] = np.inf\n",
    "    #r1[np.diag_indices(r1.shape[0])] = 0\n",
    "    #r2[np.diag_indices(r2.shape[0])] = 0\n",
    "        \n",
    "    #\n",
    "    #  0      r1\n",
    "    #  r1  min(r1,r2)\n",
    "    #\n",
    "    d = np.zeros((2 * n, 2 * n))\n",
    "    #d[:n, :n] = np.zeros((n, n))\n",
    "\n",
    "    if not use_max:\n",
    "        d[n:, :n] = r1\n",
    "        d[:n, n:] = r1.T\n",
    "        d[n:, n:] = np.minimum(r1, r2)\n",
    "        #d[n:, n:] = r1\n",
    "        \n",
    "        for i in range(n):\n",
    "            for j in range(n):\n",
    "                if i != j:\n",
    "                    if mask[i,j] == 0:\n",
    "                        d[n+i, n+j] = r1[i, j]\n",
    "        \n",
    "    else:\n",
    "        d[n:, :n] = np.maximum(r1, r2)\n",
    "        d[:n, n:] = np.maximum(r1, r2)\n",
    "\n",
    "    m = r1.mean()\n",
    "    d[d < m*(1e-6)] = 0\n",
    "    d_tril = d[np.tril_indices(d.shape[0], k = -1)]\n",
    "\n",
    "    if verbose:\n",
    "        print('matrix prepared')\n",
    "\n",
    "    barc = rpp_py.run(\"--format lower-distance --dim %d\" % dim, d_tril)\n",
    "\n",
    "    return barc"
   ]
  },
  {
   "cell_type": "code",
   "execution_count": null,
   "metadata": {},
   "outputs": [],
   "source": []
  },
  {
   "cell_type": "code",
   "execution_count": 9,
   "metadata": {},
   "outputs": [],
   "source": [
    "import torch\n",
    "from sklearn.metrics import pairwise_distances"
   ]
  },
  {
   "cell_type": "code",
   "execution_count": 12,
   "metadata": {},
   "outputs": [],
   "source": [
    "pd = pairwise_distances(P, P)"
   ]
  },
  {
   "cell_type": "code",
   "execution_count": 13,
   "metadata": {},
   "outputs": [],
   "source": [
    "qd = pairwise_distances(Q, Q)"
   ]
  },
  {
   "cell_type": "code",
   "execution_count": 14,
   "metadata": {},
   "outputs": [
    {
     "data": {
      "text/plain": [
       "2.090930845795209"
      ]
     },
     "execution_count": 14,
     "metadata": {},
     "output_type": "execute_result"
    }
   ],
   "source": [
    "np.max(pd)"
   ]
  },
  {
   "cell_type": "code",
   "execution_count": 15,
   "metadata": {},
   "outputs": [
    {
     "data": {
      "text/plain": [
       "2.0727530216668093"
      ]
     },
     "execution_count": 15,
     "metadata": {},
     "output_type": "execute_result"
    }
   ],
   "source": [
    "np.max(qd)"
   ]
  },
  {
   "cell_type": "code",
   "execution_count": 17,
   "metadata": {},
   "outputs": [
    {
     "ename": "ValueError",
     "evalue": "The truth value of an array with more than one element is ambiguous. Use a.any() or a.all()",
     "output_type": "error",
     "traceback": [
      "\u001b[0;31m---------------------------------------------------------------------------\u001b[0m",
      "\u001b[0;31mValueError\u001b[0m                                Traceback (most recent call last)",
      "\u001b[0;32m<ipython-input-17-58b2525bcc89>\u001b[0m in \u001b[0;36m<module>\u001b[0;34m\u001b[0m\n\u001b[0;32m----> 1\u001b[0;31m \u001b[0mmin\u001b[0m\u001b[0;34m(\u001b[0m\u001b[0mpd\u001b[0m\u001b[0;34m,\u001b[0m \u001b[0mqd\u001b[0m\u001b[0;34m)\u001b[0m\u001b[0;34m\u001b[0m\u001b[0;34m\u001b[0m\u001b[0m\n\u001b[0m",
      "\u001b[0;31mValueError\u001b[0m: The truth value of an array with more than one element is ambiguous. Use a.any() or a.all()"
     ]
    }
   ],
   "source": [
    "min(pd, qd)"
   ]
  },
  {
   "cell_type": "code",
   "execution_count": 23,
   "metadata": {},
   "outputs": [
    {
     "data": {
      "text/plain": [
       "1.8288281791369863"
      ]
     },
     "execution_count": 23,
     "metadata": {},
     "output_type": "execute_result"
    }
   ],
   "source": [
    "np.max(np.minimum(pd, qd))"
   ]
  },
  {
   "cell_type": "code",
   "execution_count": null,
   "metadata": {},
   "outputs": [],
   "source": []
  },
  {
   "cell_type": "code",
   "execution_count": null,
   "metadata": {},
   "outputs": [],
   "source": []
  },
  {
   "cell_type": "code",
   "execution_count": null,
   "metadata": {},
   "outputs": [],
   "source": []
  },
  {
   "cell_type": "code",
   "execution_count": null,
   "metadata": {},
   "outputs": [],
   "source": []
  },
  {
   "cell_type": "code",
   "execution_count": null,
   "metadata": {},
   "outputs": [],
   "source": []
  },
  {
   "cell_type": "code",
   "execution_count": null,
   "metadata": {},
   "outputs": [],
   "source": []
  },
  {
   "cell_type": "code",
   "execution_count": null,
   "metadata": {},
   "outputs": [],
   "source": []
  },
  {
   "cell_type": "code",
   "execution_count": null,
   "metadata": {},
   "outputs": [],
   "source": []
  },
  {
   "cell_type": "code",
   "execution_count": null,
   "metadata": {},
   "outputs": [],
   "source": []
  },
  {
   "cell_type": "code",
   "execution_count": null,
   "metadata": {},
   "outputs": [],
   "source": []
  },
  {
   "cell_type": "code",
   "execution_count": null,
   "metadata": {},
   "outputs": [],
   "source": []
  }
 ],
 "metadata": {
  "kernelspec": {
   "display_name": "Python 3",
   "language": "python",
   "name": "python3"
  },
  "language_info": {
   "codemirror_mode": {
    "name": "ipython",
    "version": 3
   },
   "file_extension": ".py",
   "mimetype": "text/x-python",
   "name": "python",
   "nbconvert_exporter": "python",
   "pygments_lexer": "ipython3",
   "version": "3.8.5"
  }
 },
 "nbformat": 4,
 "nbformat_minor": 4
}
