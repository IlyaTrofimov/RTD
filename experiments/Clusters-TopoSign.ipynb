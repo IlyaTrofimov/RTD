{
 "cells": [
  {
   "cell_type": "code",
   "execution_count": 1,
   "metadata": {},
   "outputs": [],
   "source": [
    "import os\n",
    "import sys"
   ]
  },
  {
   "cell_type": "code",
   "execution_count": 3,
   "metadata": {},
   "outputs": [],
   "source": [
    "from sklearn.metrics.pairwise import pairwise_distances\n",
    "import numpy as np\n",
    "import matplotlib.pyplot as plt\n",
    "import sklearn\n",
    "from scipy import stats\n",
    "from tqdm.notebook import tqdm\n",
    "%matplotlib inline"
   ]
  },
  {
   "cell_type": "code",
   "execution_count": 12,
   "metadata": {
    "scrolled": true
   },
   "outputs": [],
   "source": [
    "from topology import PersistentHomologyCalculation\n",
    "import numpy as np\n",
    "import torch\n",
    "import torch.nn as nn\n",
    "\n",
    "class TopologicalSignatureDistance(nn.Module):\n",
    "    \"\"\"Topological signature.\"\"\"\n",
    "\n",
    "    def __init__(self, sort_selected=False, use_cycles=False,\n",
    "                 match_edges=None):\n",
    "        \"\"\"Topological signature computation.\n",
    "        Args:\n",
    "            p: Order of norm used for distance computation\n",
    "            use_cycles: Flag to indicate whether cycles should be used\n",
    "                or not.\n",
    "        \"\"\"\n",
    "        super().__init__()\n",
    "        self.use_cycles = use_cycles\n",
    "\n",
    "        self.match_edges = match_edges\n",
    "\n",
    "        # if use_cycles:\n",
    "        #     use_aleph = True\n",
    "        # else:\n",
    "        #     if not sort_selected and match_edges is None:\n",
    "        #         use_aleph = True\n",
    "        #     else:\n",
    "        #         use_aleph = False\n",
    "\n",
    "        # if use_aleph:\n",
    "        #     print('Using aleph to compute signatures')\n",
    "        ##self.signature_calculator = AlephPersistenHomologyCalculation(\n",
    "        ##    compute_cycles=use_cycles, sort_selected=sort_selected)\n",
    "        # else:\n",
    "        print('Using python to compute signatures')\n",
    "        self.signature_calculator = PersistentHomologyCalculation()\n",
    "\n",
    "    def _get_pairings(self, distances):\n",
    "        pairs_0, pairs_1 = self.signature_calculator(\n",
    "            distances.detach().cpu().numpy())\n",
    "\n",
    "        return pairs_0, pairs_1\n",
    "\n",
    "    def _select_distances_from_pairs(self, distance_matrix, pairs):\n",
    "        # Split 0th order and 1st order features (edges and cycles)\n",
    "        pairs_0, pairs_1 = pairs\n",
    "        selected_distances = distance_matrix[(pairs_0[:, 0], pairs_0[:, 1])]\n",
    "\n",
    "        if self.use_cycles:\n",
    "            edges_1 = distance_matrix[(pairs_1[:, 0], pairs_1[:, 1])]\n",
    "            edges_2 = distance_matrix[(pairs_1[:, 2], pairs_1[:, 3])]\n",
    "            edge_differences = edges_2 - edges_1\n",
    "\n",
    "            selected_distances = torch.cat(\n",
    "                (selected_distances, edge_differences))\n",
    "\n",
    "        return selected_distances\n",
    "\n",
    "    @staticmethod\n",
    "    def sig_error(signature1, signature2):\n",
    "        \"\"\"Compute distance between two topological signatures.\"\"\"\n",
    "        return ((signature1 - signature2)**2).sum(dim=-1)\n",
    "\n",
    "    @staticmethod\n",
    "    def _count_matching_pairs(pairs1, pairs2):\n",
    "        def to_set(array):\n",
    "            return set(tuple(elements) for elements in array)\n",
    "        return float(len(to_set(pairs1).intersection(to_set(pairs2))))\n",
    "\n",
    "    @staticmethod\n",
    "    def _get_nonzero_cycles(pairs):\n",
    "        all_indices_equal = np.sum(pairs[:, [0]] == pairs[:, 1:], axis=-1) == 3\n",
    "        return np.sum(np.logical_not(all_indices_equal))\n",
    "\n",
    "    # pylint: disable=W0221\n",
    "    def forward(self, distances1, distances2):\n",
    "        \"\"\"Return topological distance of two pairwise distance matrices.\n",
    "        Args:\n",
    "            distances1: Distance matrix in space 1\n",
    "            distances2: Distance matrix in space 2\n",
    "        Returns:\n",
    "            distance, dict(additional outputs)\n",
    "        \"\"\"\n",
    "        pairs1 = self._get_pairings(distances1)\n",
    "        pairs2 = self._get_pairings(distances2)\n",
    "\n",
    "        distance_components = {\n",
    "            'metrics.matched_pairs_0D': self._count_matching_pairs(\n",
    "                pairs1[0], pairs2[0])\n",
    "        }\n",
    "        # Also count matched cycles if present\n",
    "        if self.use_cycles:\n",
    "            distance_components['metrics.matched_pairs_1D'] = \\\n",
    "                self._count_matching_pairs(pairs1[1], pairs2[1])\n",
    "            nonzero_cycles_1 = self._get_nonzero_cycles(pairs1[1])\n",
    "            nonzero_cycles_2 = self._get_nonzero_cycles(pairs2[1])\n",
    "            distance_components['metrics.non_zero_cycles_1'] = nonzero_cycles_1\n",
    "            distance_components['metrics.non_zero_cycles_2'] = nonzero_cycles_2\n",
    "\n",
    "        if self.match_edges is None:\n",
    "            sig1 = self._select_distances_from_pairs(distances1, pairs1)\n",
    "            sig2 = self._select_distances_from_pairs(distances2, pairs2)\n",
    "            distance = self.sig_error(sig1, sig2)\n",
    "\n",
    "        elif self.match_edges == 'symmetric':\n",
    "            sig1 = self._select_distances_from_pairs(distances1, pairs1)\n",
    "            sig2 = self._select_distances_from_pairs(distances2, pairs2)\n",
    "            # Selected pairs of 1 on distances of 2 and vice versa\n",
    "            sig1_2 = self._select_distances_from_pairs(distances2, pairs1)\n",
    "            sig2_1 = self._select_distances_from_pairs(distances1, pairs2)\n",
    "\n",
    "            distance1_2 = self.sig_error(sig1, sig1_2)\n",
    "            distance2_1 = self.sig_error(sig2, sig2_1)\n",
    "\n",
    "            distance_components['metrics.distance1-2'] = distance1_2\n",
    "            distance_components['metrics.distance2-1'] = distance2_1\n",
    "\n",
    "            distance = distance1_2 + distance2_1\n",
    "\n",
    "        elif self.match_edges == 'random':\n",
    "            # Create random selection in oder to verify if what we are seeing\n",
    "            # is the topological constraint or an implicit latent space prior\n",
    "            # for compactness\n",
    "            n_instances = len(pairs1[0])\n",
    "            pairs1 = torch.cat([\n",
    "                torch.randperm(n_instances)[:, None],\n",
    "                torch.randperm(n_instances)[:, None]\n",
    "            ], dim=1)\n",
    "            pairs2 = torch.cat([\n",
    "                torch.randperm(n_instances)[:, None],\n",
    "                torch.randperm(n_instances)[:, None]\n",
    "            ], dim=1)\n",
    "\n",
    "            sig1_1 = self._select_distances_from_pairs(\n",
    "                distances1, (pairs1, None))\n",
    "            sig1_2 = self._select_distances_from_pairs(\n",
    "                distances2, (pairs1, None))\n",
    "\n",
    "            sig2_2 = self._select_distances_from_pairs(\n",
    "                distances2, (pairs2, None))\n",
    "            sig2_1 = self._select_distances_from_pairs(\n",
    "                distances1, (pairs2, None))\n",
    "\n",
    "            distance1_2 = self.sig_error(sig1_1, sig1_2)\n",
    "            distance2_1 = self.sig_error(sig2_1, sig2_2)\n",
    "            distance_components['metrics.distance1-2'] = distance1_2\n",
    "            distance_components['metrics.distance2-1'] = distance2_1\n",
    "\n",
    "            distance = distance1_2 + distance2_1\n",
    "\n",
    "        return distance, distance_components"
   ]
  },
  {
   "cell_type": "markdown",
   "metadata": {},
   "source": [
    "### Exp many clusters"
   ]
  },
  {
   "cell_type": "code",
   "execution_count": 23,
   "metadata": {},
   "outputs": [],
   "source": [
    "np.random.seed(7)\n",
    "\n",
    "all_clusters = []\n",
    "\n",
    "for i in range(60):\n",
    "    all_clusters.append(np.random.multivariate_normal(np.zeros(2), np.eye(2), 5))\n",
    "    \n",
    "A_base = np.concatenate(all_clusters)"
   ]
  },
  {
   "cell_type": "code",
   "execution_count": 24,
   "metadata": {},
   "outputs": [],
   "source": [
    "def split2clusters(k):\n",
    "    \n",
    "    if k == 1:\n",
    "        return A_base\n",
    "    \n",
    "    arr = []\n",
    "    \n",
    "    for i in range(60):\n",
    "        idx = i % k\n",
    "    \n",
    "        theta = 2 * np.pi * idx / k\n",
    "        d = np.array([np.cos(theta), np.sin(theta)]) * 10\n",
    "        \n",
    "        arr.append(all_clusters[i] + d)\n",
    "        \n",
    "    A_mod = np.concatenate(arr)\n",
    "    \n",
    "    return A_mod"
   ]
  },
  {
   "cell_type": "code",
   "execution_count": 45,
   "metadata": {},
   "outputs": [
    {
     "data": {
      "image/png": "[encoded data removed]",
      "text/plain": [
       "<Figure size 864x100.8 with 8 Axes>"
      ]
     },
     "metadata": {
      "needs_background": "light"
     },
     "output_type": "display_data"
    }
   ],
   "source": [
    "ALL = [2, 3, 4, 5, 6, 10, 12]\n",
    "\n",
    "fig, ax = plt.subplots(1, len(ALL) + 1)\n",
    "fig.set_size_inches(12, 1.4)\n",
    "\n",
    "for idx, k in enumerate([0] + ALL):\n",
    "    \n",
    "    if idx == 0:\n",
    "        A = A_base\n",
    "    else:\n",
    "        A = split2clusters(k)\n",
    "\n",
    "    ax[idx].scatter(x = A[:,0], y = A[:,1], s = 2)\n",
    "    ax[idx].set_xlim(-15, 15)\n",
    "    ax[idx].set_ylim(-15, 15)\n",
    "    \n",
    "for ax in fig.get_axes():\n",
    "    ax.label_outer()"
   ]
  },
  {
   "cell_type": "code",
   "execution_count": 51,
   "metadata": {},
   "outputs": [
    {
     "name": "stdout",
     "output_type": "stream",
     "text": [
      "Using python to compute signatures\n"
     ]
    }
   ],
   "source": [
    "tsd = TopologicalSignatureDistance({})"
   ]
  },
  {
   "cell_type": "code",
   "execution_count": 63,
   "metadata": {
    "scrolled": true
   },
   "outputs": [
    {
     "name": "stdout",
     "output_type": "stream",
     "text": [
      "CPU times: user 50.5 s, sys: 4.75 s, total: 55.2 s\n",
      "Wall time: 3.78 s\n"
     ]
    }
   ],
   "source": [
    "%%time\n",
    "res = []\n",
    "\n",
    "for i, k in enumerate(ALL):\n",
    "    A_mod = split2clusters(k)\n",
    "    \n",
    "    r1 = pairwise_distances(A_base, A_base)\n",
    "    r2 = pairwise_distances(A_mod, A_mod)\n",
    "    \n",
    "    r1 = torch.Tensor(r1)\n",
    "    r2 = torch.Tensor(r2)\n",
    "    \n",
    "    #r1 /= r1.max()\n",
    "    #r2 /= r2.max()\n",
    "    \n",
    "    res.append(tsd(r1, r2)[0].item())"
   ]
  },
  {
   "cell_type": "code",
   "execution_count": 64,
   "metadata": {},
   "outputs": [
    {
     "data": {
      "image/png": "[encoded data removed]",
      "text/plain": [
       "<Figure size 324x108 with 1 Axes>"
      ]
     },
     "metadata": {
      "needs_background": "light"
     },
     "output_type": "display_data"
    }
   ],
   "source": [
    "clusters_list = [2, 3, 4, 5, 6, 10, 12]\n",
    "\n",
    "fig, ax = plt.subplots(1, 1)\n",
    "fig.set_size_inches((4.5, 1.5))\n",
    "plt.plot(clusters_list, res[:len(clusters_list)], 'o-', label = 'base/mod')\n",
    "ax.set_xlabel('#clusters')\n",
    "plt.title('TopoSign')\n",
    "plt.show()"
   ]
  },
  {
   "cell_type": "code",
   "execution_count": 65,
   "metadata": {},
   "outputs": [
    {
     "data": {
      "text/plain": [
       "-0.5238095238095238"
      ]
     },
     "execution_count": 65,
     "metadata": {},
     "output_type": "execute_result"
    }
   ],
   "source": [
    "stats.kendalltau(res, clusters_list).correlation"
   ]
  },
  {
   "cell_type": "code",
   "execution_count": 67,
   "metadata": {},
   "outputs": [
    {
     "data": {
      "text/plain": [
       "tensor(24.6107)"
      ]
     },
     "execution_count": 67,
     "metadata": {},
     "output_type": "execute_result"
    }
   ],
   "source": [
    "r2.max()"
   ]
  },
  {
   "cell_type": "code",
   "execution_count": 68,
   "metadata": {},
   "outputs": [
    {
     "data": {
      "text/plain": [
       "tensor(6.7068)"
      ]
     },
     "execution_count": 68,
     "metadata": {},
     "output_type": "execute_result"
    }
   ],
   "source": [
    "r1.max()"
   ]
  },
  {
   "cell_type": "code",
   "execution_count": null,
   "metadata": {},
   "outputs": [],
   "source": []
  },
  {
   "cell_type": "code",
   "execution_count": null,
   "metadata": {},
   "outputs": [],
   "source": []
  }
 ],
 "metadata": {
  "kernelspec": {
   "display_name": "Python 3",
   "language": "python",
   "name": "python3"
  },
  "language_info": {
   "codemirror_mode": {
    "name": "ipython",
    "version": 3
   },
   "file_extension": ".py",
   "mimetype": "text/x-python",
   "name": "python",
   "nbconvert_exporter": "python",
   "pygments_lexer": "ipython3",
   "version": "3.7.10"
  }
 },
 "nbformat": 4,
 "nbformat_minor": 4
}
