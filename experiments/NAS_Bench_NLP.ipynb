{
 "cells": [
  {
   "cell_type": "code",
   "execution_count": null,
   "metadata": {},
   "outputs": [],
   "source": [
    "import os\n",
    "import sys"
   ]
  },
  {
   "cell_type": "code",
   "execution_count": null,
   "metadata": {},
   "outputs": [],
   "source": [
    "os.environ['CUDA_VISIBLE_DEVICES'] = '1'"
   ]
  },
  {
   "cell_type": "code",
   "execution_count": null,
   "metadata": {},
   "outputs": [],
   "source": [
    "from sklearn.metrics.pairwise import pairwise_distances\n",
    "import numpy as np\n",
    "import matplotlib.pyplot as plt\n",
    "import sklearn\n",
    "from scipy import stats\n",
    "import pickle\n",
    "from tqdm.notebook import tqdm\n",
    "%matplotlib inline"
   ]
  },
  {
   "cell_type": "code",
   "execution_count": null,
   "metadata": {},
   "outputs": [],
   "source": [
    "import barcodes\n",
    "from cka import cka"
   ]
  },
  {
   "cell_type": "code",
   "execution_count": null,
   "metadata": {},
   "outputs": [],
   "source": [
    "from importlib import reload\n",
    "reload(barcodes)"
   ]
  },
  {
   "cell_type": "code",
   "execution_count": null,
   "metadata": {},
   "outputs": [],
   "source": [
    "# test barcodes\n",
    "\n",
    "import numpy as np\n",
    "import barcodes\n",
    "\n",
    "np.random.seed(7)\n",
    "P = np.random.rand(100, 10)\n",
    "Q = np.random.rand(100, 10)"
   ]
  },
  {
   "cell_type": "code",
   "execution_count": null,
   "metadata": {},
   "outputs": [],
   "source": [
    "barc = barcodes.calc_embed_dist(P, Q, pdist_device = 'cuda:0', verbose = True, fast = True)"
   ]
  },
  {
   "cell_type": "code",
   "execution_count": null,
   "metadata": {},
   "outputs": [],
   "source": [
    "data_full = pickle.load(open('/nas-bench-nlp-release/embeds90.pickle', 'rb'))"
   ]
  },
  {
   "cell_type": "code",
   "execution_count": null,
   "metadata": {},
   "outputs": [],
   "source": [
    "print(len(data_full))"
   ]
  },
  {
   "cell_type": "code",
   "execution_count": null,
   "metadata": {
    "scrolled": true
   },
   "outputs": [],
   "source": [
    "for suffix, test_loss, embeds in data_full:\n",
    "    print(suffix, test_loss)"
   ]
  },
  {
   "cell_type": "code",
   "execution_count": null,
   "metadata": {},
   "outputs": [],
   "source": [
    "data = data_full"
   ]
  },
  {
   "cell_type": "code",
   "execution_count": null,
   "metadata": {},
   "outputs": [],
   "source": [
    "data[0][2].shape"
   ]
  },
  {
   "cell_type": "code",
   "execution_count": null,
   "metadata": {},
   "outputs": [],
   "source": [
    "N_tokens = data[0][2].shape[0]\n",
    "N_trials = 10\n",
    "batch = 100"
   ]
  },
  {
   "cell_type": "code",
   "execution_count": null,
   "metadata": {
    "scrolled": true
   },
   "outputs": [],
   "source": [
    "res1 = {}\n",
    "res_cka = {}\n",
    "barcs = {}\n",
    "\n",
    "for idx1 in tqdm(range(len(data))):\n",
    "    for idx2 in range(len(data)):\n",
    "        \n",
    "        h1sum_part = 0\n",
    "        cka_part = 0\n",
    "        \n",
    "        a_full = data[idx1][2].detach().numpy()\n",
    "        b_full = data[idx2][2].detach().numpy()\n",
    "        \n",
    "        for trial in range(N_trials):\n",
    "            cnt += 1\n",
    "            rnd_slice = np.random.permutation(range(N_tokens))[0:batch]\n",
    "\n",
    "            a = a_full[rnd_slice]\n",
    "            b = b_full[rnd_slice]\n",
    "            \n",
    "            barc = barcodes.calc_embed_dist(a, b, norm = 'quantile', fast = True, verbose = True)\n",
    "            #barcodes.plot_barcodes(barcodes.barc2array(barc), title = '')\n",
    "            #plt.show()\n",
    "            \n",
    "            barcs[(idx1, idx2, trial)] = barc\n",
    "\n",
    "            h1sum_part += barcodes.h1sum(barc)\n",
    "            cka_part += cka(a, b)\n",
    "            \n",
    "        res1[(idx1, idx2)] = h1sum_part / N_trials\n",
    "        res_cka[(idx1, idx2)] = cka_part / N_trials"
   ]
  },
  {
   "cell_type": "markdown",
   "metadata": {},
   "source": [
    "### Check relative std"
   ]
  },
  {
   "cell_type": "code",
   "execution_count": null,
   "metadata": {},
   "outputs": [],
   "source": [
    "data_std = []\n",
    "\n",
    "for idx1 in range(len(data)):\n",
    "    for idx2 in range(len(data)):\n",
    "        if idx1 != idx2:\n",
    "            trials_barc = [barcs[(idx1, idx2, t)] for t in range(N_trials)]\n",
    "            trials_rtd = [barcodes.h1sum(barc) for barc in trials_barc]\n",
    "            \n",
    "            data_std.append(np.std(trials_rtd) / np.mean(trials_rtd) / pow(N_trials, 0.5))"
   ]
  },
  {
   "cell_type": "code",
   "execution_count": null,
   "metadata": {},
   "outputs": [],
   "source": [
    "np.mean(data_std)"
   ]
  },
  {
   "cell_type": "code",
   "execution_count": null,
   "metadata": {},
   "outputs": [],
   "source": [
    "#pickle.dump((res1, res_cka), open('exp_nas-bench-nlp.pickle', 'wb'))\n",
    "(res1, res_cka) = pickle.load(open('exp_nas-bench-nlp.pickle', 'rb'))"
   ]
  },
  {
   "cell_type": "code",
   "execution_count": null,
   "metadata": {},
   "outputs": [],
   "source": [
    "sim = np.zeros((len(data), len(data)))"
   ]
  },
  {
   "cell_type": "code",
   "execution_count": null,
   "metadata": {},
   "outputs": [],
   "source": [
    "from math import log"
   ]
  },
  {
   "cell_type": "code",
   "execution_count": null,
   "metadata": {},
   "outputs": [],
   "source": [
    "for idx1 in range(len(data)):\n",
    "    for idx2 in range(len(data)):\n",
    "        sim[idx1, idx2] = pow(res1[(idx1, idx2)] + res1[(idx2, idx1)], 1.0)\n",
    "        #sim[idx1, idx2] = 20 - res_cka[(idx1, idx2)] - res_cka[(idx2, idx1)] "
   ]
  },
  {
   "cell_type": "markdown",
   "metadata": {},
   "source": [
    "### Check triangle inequality violations"
   ]
  },
  {
   "cell_type": "code",
   "execution_count": null,
   "metadata": {},
   "outputs": [],
   "source": [
    "cnt = 0\n",
    "cnt_err = 0\n",
    "\n",
    "for idx1 in range(len(data)):\n",
    "    for idx2 in range(idx1 + 1, len(data)):\n",
    "        for idx3 in range(idx2 + 1, len(data)):\n",
    "            if idx1 == idx2 or idx1 == idx3 or idx2 == idx3:\n",
    "                continue\n",
    "            \n",
    "            a = sim[idx1, idx2]\n",
    "            b = sim[idx1, idx3]\n",
    "            c = sim[idx2, idx3]       \n",
    "            \n",
    "            cnt += 1\n",
    "            \n",
    "            if a + b < c or a + c < b or b + c < a:\n",
    "                cnt_err += 1"
   ]
  },
  {
   "cell_type": "code",
   "execution_count": null,
   "metadata": {},
   "outputs": [],
   "source": [
    "1 - cnt_err / cnt"
   ]
  },
  {
   "cell_type": "code",
   "execution_count": null,
   "metadata": {},
   "outputs": [],
   "source": [
    "print(__doc__)\n",
    "\n",
    "from collections import OrderedDict\n",
    "from functools import partial\n",
    "from time import time\n",
    "\n",
    "import matplotlib.pyplot as plt\n",
    "from mpl_toolkits.mplot3d import Axes3D\n",
    "from matplotlib.ticker import NullFormatter\n",
    "\n",
    "from sklearn import manifold, datasets\n",
    "\n",
    "# Next line to silence pyflakes. This import is needed.\n",
    "Axes3D\n",
    "\n",
    "n_points = 1000\n",
    "n_neighbors = 5\n",
    "n_components = 2\n",
    "\n",
    "# Set-up manifold methods\n",
    "\n",
    "methods = OrderedDict()\n",
    "methods['MDS'] = manifold.MDS(n_components, max_iter=100, n_init=100, dissimilarity=\"precomputed\")\n",
    "methods['t-SNE'] = manifold.TSNE(n_components, metric=\"precomputed\")\n",
    "#methods['UMAP'] = umap.UMAP(n_neighbors = n_neighbors, min_dist = 0.1, metric = 'precomputed')\n",
    "\n",
    "Y_ALL = {}\n",
    "\n",
    "# Plot results\n",
    "for i, (label, method) in enumerate(methods.items()):\n",
    "    t0 = time()\n",
    "    Y_ALL[i] = method.fit_transform(sim / 100)"
   ]
  },
  {
   "cell_type": "code",
   "execution_count": null,
   "metadata": {},
   "outputs": [],
   "source": [
    "#pickle.dump(Y_ALL, open('exp_nas-bench-nlp-mds.pickle', 'wb'))\n",
    "#Y_ALL = pickle.load(open('exp_nas-bench-nlp-mds.pickle', 'rb'))"
   ]
  },
  {
   "cell_type": "code",
   "execution_count": null,
   "metadata": {},
   "outputs": [],
   "source": [
    "from mpl_toolkits.axes_grid1 import make_axes_locatable\n",
    "from math import exp"
   ]
  },
  {
   "cell_type": "code",
   "execution_count": null,
   "metadata": {},
   "outputs": [],
   "source": [
    "color = np.array([x[1] for x in data])\n",
    "\n",
    "# Create figure\n",
    "fig = plt.figure(figsize=(16, 6))\n",
    "\n",
    "# Plot results\n",
    "for i, (label, method) in enumerate(methods.items()):\n",
    "    t0 = time()\n",
    "    Y = Y_ALL[i]\n",
    "    t1 = time()\n",
    "    print(\"%s: %.2g sec\" % (label, t1 - t0))\n",
    "    ax = fig.add_subplot(2, 5, 2 + i + (i > 3))\n",
    "    im = ax.scatter(Y[:, 0], Y[:, 1], c=color, cmap=plt.cm.Spectral)\n",
    "    #ax.set_title(\"%s\" % label)\n",
    "    ax.xaxis.set_major_formatter(NullFormatter())\n",
    "    ax.yaxis.set_major_formatter(NullFormatter())\n",
    "    ax.axis('tight')\n",
    "    \n",
    "    # create an axes on the right side of ax. The width of cax will be 5%\n",
    "    # of ax and the padding between cax and ax will be fixed at 0.05 inch.\n",
    "    divider = make_axes_locatable(ax)\n",
    "    cax = divider.append_axes(\"right\", size=\"5%\", pad=0.10)\n",
    "    plt.colorbar(im, cax=cax)\n",
    "    #fig.tight_layout()\n",
    "    \n",
    "plt.show()"
   ]
  }
 ],
 "metadata": {
  "kernelspec": {
   "display_name": "Python 3",
   "language": "python",
   "name": "python3"
  },
  "language_info": {
   "codemirror_mode": {
    "name": "ipython",
    "version": 3
   },
   "file_extension": ".py",
   "mimetype": "text/x-python",
   "name": "python",
   "nbconvert_exporter": "python",
   "pygments_lexer": "ipython3",
   "version": "3.7.10"
  }
 },
 "nbformat": 4,
 "nbformat_minor": 4
}
