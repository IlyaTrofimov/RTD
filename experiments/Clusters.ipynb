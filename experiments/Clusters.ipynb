{
 "cells": [
  {
   "cell_type": "code",
   "execution_count": 1,
   "metadata": {},
   "outputs": [],
   "source": [
    "import os\n",
    "import sys"
   ]
  },
  {
   "cell_type": "code",
   "execution_count": 2,
   "metadata": {},
   "outputs": [],
   "source": [
    "os.environ['CUDA_VISIBLE_DEVICES'] = '3'"
   ]
  },
  {
   "cell_type": "code",
   "execution_count": 3,
   "metadata": {},
   "outputs": [],
   "source": [
    "from sklearn.metrics.pairwise import pairwise_distances\n",
    "import numpy as np\n",
    "import matplotlib.pyplot as plt\n",
    "import sklearn\n",
    "from scipy import stats\n",
    "from tqdm.notebook import tqdm\n",
    "%matplotlib inline"
   ]
  },
  {
   "cell_type": "code",
   "execution_count": 4,
   "metadata": {},
   "outputs": [],
   "source": [
    "import barcodes"
   ]
  },
  {
   "cell_type": "code",
   "execution_count": 5,
   "metadata": {
    "scrolled": true
   },
   "outputs": [],
   "source": [
    "import pickle\n",
    "from cka import cka\n",
    "from msid import msid_score\n",
    "from svcca import svcca\n",
    "\n",
    "def msid_score_n(a, b, n):\n",
    "    total = 0.0\n",
    "    for _ in range(n):\n",
    "        total += msid_score(a, b)\n",
    "    return total / n"
   ]
  },
  {
   "cell_type": "markdown",
   "metadata": {},
   "source": [
    "### Exp many clusters"
   ]
  },
  {
   "cell_type": "code",
   "execution_count": 6,
   "metadata": {},
   "outputs": [],
   "source": [
    "np.random.seed(7)\n",
    "\n",
    "all_clusters = []\n",
    "\n",
    "for i in range(60):\n",
    "    all_clusters.append(np.random.multivariate_normal(np.zeros(2), np.eye(2), 5))\n",
    "    \n",
    "A_base = np.concatenate(all_clusters)"
   ]
  },
  {
   "cell_type": "code",
   "execution_count": 7,
   "metadata": {},
   "outputs": [],
   "source": [
    "def split2clusters(k):\n",
    "    \n",
    "    if k == 1:\n",
    "        return A_base\n",
    "    \n",
    "    arr = []\n",
    "    \n",
    "    for i in range(60):\n",
    "        idx = i % k\n",
    "    \n",
    "        theta = 2 * np.pi * idx / k\n",
    "        d = np.array([np.cos(theta), np.sin(theta)]) * 10\n",
    "        \n",
    "        arr.append(all_clusters[i] + d)\n",
    "        \n",
    "    A_mod = np.concatenate(arr)\n",
    "    \n",
    "    return A_mod"
   ]
  },
  {
   "cell_type": "code",
   "execution_count": 8,
   "metadata": {},
   "outputs": [
    {
     "data": {
      "image/png": "[encoded data removed]",
      "text/plain": [
       "<Figure size 864x100.8 with 8 Axes>"
      ]
     },
     "metadata": {
      "needs_background": "light"
     },
     "output_type": "display_data"
    }
   ],
   "source": [
    "ALL = [2, 3, 4, 5, 6, 10, 12]\n",
    "\n",
    "fig, ax = plt.subplots(1, len(ALL) + 1)\n",
    "fig.set_size_inches(12, 1.4)\n",
    "\n",
    "for idx, k in enumerate([0] + ALL):\n",
    "    \n",
    "    if idx == 0:\n",
    "        A = A_base\n",
    "    else:\n",
    "        A = split2clusters(k)\n",
    "\n",
    "    ax[idx].scatter(x = A[:,0], y = A[:,1], s = 2)\n",
    "    ax[idx].set_xlim(-15, 15)\n",
    "    ax[idx].set_ylim(-15, 15)\n",
    "    \n",
    "for ax in fig.get_axes():\n",
    "    ax.label_outer()"
   ]
  },
  {
   "cell_type": "code",
   "execution_count": 12,
   "metadata": {
    "scrolled": true
   },
   "outputs": [
    {
     "name": "stdout",
     "output_type": "stream",
     "text": [
      "CPU times: user 19.5 s, sys: 802 ms, total: 20.3 s\n",
      "Wall time: 12.1 s\n"
     ]
    }
   ],
   "source": [
    "%%time\n",
    "res1 = []\n",
    "res2 = []\n",
    "res_cka = []\n",
    "res_imd = []\n",
    "res_svcca = []\n",
    "\n",
    "barcs1 = []\n",
    "barcs2 = []\n",
    "\n",
    "for i, k in enumerate(ALL):\n",
    "    \n",
    "    A_mod = split2clusters(k)\n",
    "    \n",
    "    #barc = barcodes.calc_embed_dist(A_base, A_mod, norm = 'quantile')\n",
    "    #barcodes.plot_barcodes(barcodes.barc2array(barc), title = '')\n",
    "    #plt.show()\n",
    "    res1.append(barcodes.h1sum(barc))\n",
    "    barcs1.append(barc)\n",
    "\n",
    "    #barc = barcodes.calc_embed_dist(A_mod, A_base, norm = 'quantile')\n",
    "    #barcodes.plot_barcodes(barcodes.barc2array(barc), title = '')\n",
    "    #plt.show()\n",
    "    res2.append(barcodes.h1sum(barc))\n",
    "    barcs2.append(barc)\n",
    "    \n",
    "    res_cka.append(cka(A_base, A_mod))\n",
    "    res_imd.append(msid_score_n(A_base, A_mod, 100))    \n",
    "    res_svcca.append(svcca(A_base.T, A_mod.T))\n",
    "    break"
   ]
  },
  {
   "cell_type": "code",
   "execution_count": null,
   "metadata": {},
   "outputs": [],
   "source": []
  },
  {
   "cell_type": "code",
   "execution_count": null,
   "metadata": {},
   "outputs": [],
   "source": []
  },
  {
   "cell_type": "code",
   "execution_count": null,
   "metadata": {},
   "outputs": [],
   "source": []
  },
  {
   "cell_type": "code",
   "execution_count": 38,
   "metadata": {},
   "outputs": [],
   "source": [
    "#pickle.dump((res1, res2, res_cka), open('exp_clusters.pickle', 'wb'))\n",
    "(res1, res2, res_cka) = pickle.load(open('exp_clusters.pickle', 'rb'))"
   ]
  },
  {
   "cell_type": "code",
   "execution_count": 105,
   "metadata": {},
   "outputs": [
    {
     "data": {
      "image/png": "[encoded data removed]",
      "text/plain": [
       "<Figure size 1008x144 with 7 Axes>"
      ]
     },
     "metadata": {
      "needs_background": "light"
     },
     "output_type": "display_data"
    }
   ],
   "source": [
    "clusters2show = ALL\n",
    "cols = len(clusters2show)\n",
    "\n",
    "fig, ax = plt.subplots(1, cols, sharey = True)\n",
    "fig.set_size_inches((2 * cols, 2))\n",
    "\n",
    "for col, k in enumerate(clusters2show):\n",
    "    i = ALL.index(k)\n",
    "    barc = barcs1[i]\n",
    "    #ax[col].set_ylim(0, 300)\n",
    "    #ax[col].set_xlim(0, 0.75)\n",
    "    barcodes.plot_barcodes(barcodes.barc2array(barc), title = '', ax = ax[col], fig = fig)\n",
    "    \n",
    "    if col > 0:\n",
    "        ax[col].set_ylabel('')\n",
    "        \n",
    "    ax[col].legend(loc = 'best')\n",
    "    \n",
    "fig.tight_layout()\n",
    "plt.show()"
   ]
  },
  {
   "cell_type": "code",
   "execution_count": 104,
   "metadata": {
    "scrolled": false
   },
   "outputs": [
    {
     "data": {
      "image/png": "[encoded data removed]",
      "text/plain": [
       "<Figure size 1008x144 with 7 Axes>"
      ]
     },
     "metadata": {
      "needs_background": "light"
     },
     "output_type": "display_data"
    }
   ],
   "source": [
    "clusters2show = ALL\n",
    "cols = len(clusters2show)\n",
    "\n",
    "fig, ax = plt.subplots(1, cols, sharey = True)\n",
    "fig.set_size_inches((2 * cols, 2))\n",
    "\n",
    "for col, k in enumerate(clusters2show):\n",
    "    i = ALL.index(k)\n",
    "    barc = barcs2[i]\n",
    "    ax[col].set_ylim(0, 300)\n",
    "    ax[col].set_xlim(0, 0.75)\n",
    "    barcodes.plot_barcodes(barcodes.barc2array(barc), title = '', ax = ax[col], fig = fig)\n",
    "    \n",
    "    if col > 0:\n",
    "        ax[col].set_ylabel('')\n",
    "        \n",
    "    ax[col].legend(loc = 'best')\n",
    "    \n",
    "fig.tight_layout()\n",
    "plt.show()"
   ]
  },
  {
   "cell_type": "code",
   "execution_count": null,
   "metadata": {},
   "outputs": [],
   "source": [
    "clusters2show = [2, 6, 12]\n",
    "cols = len(clusters2show)\n",
    "\n",
    "fig, ax = plt.subplots(1, cols, sharey = True)\n",
    "fig.set_size_inches((2 * cols, 2))\n",
    "\n",
    "for col, k in enumerate(clusters2show):\n",
    "    i = ALL.index(k)\n",
    "    barc = barcs2[i]\n",
    "    ax[col].set_ylim(0, 300)\n",
    "    ax[col].set_xlim(0, 0.75)\n",
    "    barcodes.plot_barcodes(barcodes.barc2array(barc), title = '', ax = ax[col], fig = fig)\n",
    "    \n",
    "    if col > 0:\n",
    "        ax[col].set_ylabel('')\n",
    "        \n",
    "    ax[col].legend(loc = 'best')\n",
    "    \n",
    "fig.tight_layout()\n",
    "plt.show()"
   ]
  },
  {
   "cell_type": "code",
   "execution_count": 34,
   "metadata": {},
   "outputs": [],
   "source": [
    "res_total = 0.5 * (np.array(res1) + np.array(res2))"
   ]
  },
  {
   "cell_type": "code",
   "execution_count": 17,
   "metadata": {},
   "outputs": [
    {
     "data": {
      "image/png": "[encoded data removed]",
      "text/plain": [
       "<Figure size 324x108 with 1 Axes>"
      ]
     },
     "metadata": {
      "needs_background": "light"
     },
     "output_type": "display_data"
    }
   ],
   "source": [
    "clusters_list = [2, 3, 4, 5, 6, 10, 12]\n",
    "\n",
    "fig, ax = plt.subplots(1, 1)\n",
    "fig.set_size_inches((4.5, 1.5))\n",
    "plt.plot(clusters_list, res_total[:len(clusters_list)], 'o-', label = 'base/mod')\n",
    "ax.set_xlabel('#clusters')\n",
    "plt.title('RTD')\n",
    "plt.show()"
   ]
  },
  {
   "cell_type": "code",
   "execution_count": 18,
   "metadata": {},
   "outputs": [
    {
     "data": {
      "text/plain": [
       "1.0"
      ]
     },
     "execution_count": 18,
     "metadata": {},
     "output_type": "execute_result"
    }
   ],
   "source": [
    "stats.kendalltau(res_total, clusters_list).correlation"
   ]
  },
  {
   "cell_type": "code",
   "execution_count": 32,
   "metadata": {
    "scrolled": true
   },
   "outputs": [
    {
     "data": {
      "image/png": "[encoded data removed]",
      "text/plain": [
       "<Figure size 324x108 with 1 Axes>"
      ]
     },
     "metadata": {
      "needs_background": "light"
     },
     "output_type": "display_data"
    }
   ],
   "source": [
    "fig, ax = plt.subplots(1, 1)\n",
    "\n",
    "fig.set_size_inches((4.5, 1.5))\n",
    "ax.set_xlabel('#clusters')\n",
    "ax.set_ylim(0.0, 0.12)\n",
    "plt.title('CKA')\n",
    "plt.plot(clusters_list, res_cka[:len(clusters_list)], 'o-')\n",
    "plt.show()"
   ]
  },
  {
   "cell_type": "code",
   "execution_count": 33,
   "metadata": {},
   "outputs": [
    {
     "data": {
      "text/plain": [
       "0.23809523809523814"
      ]
     },
     "execution_count": 33,
     "metadata": {},
     "output_type": "execute_result"
    }
   ],
   "source": [
    "stats.kendalltau(res_cka, clusters_list).correlation"
   ]
  },
  {
   "cell_type": "code",
   "execution_count": 21,
   "metadata": {},
   "outputs": [
    {
     "data": {
      "image/png": "[encoded data removed]",
      "text/plain": [
       "<Figure size 324x108 with 1 Axes>"
      ]
     },
     "metadata": {
      "needs_background": "light"
     },
     "output_type": "display_data"
    }
   ],
   "source": [
    "fig, ax = plt.subplots(1, 1)\n",
    "\n",
    "fig.set_size_inches((4.5, 1.5))\n",
    "ax.set_xlabel('#clusters')\n",
    "plt.title('IMD')\n",
    "plt.plot(clusters_list, res_imd[:len(clusters_list)], 'o-')\n",
    "plt.show()"
   ]
  },
  {
   "cell_type": "code",
   "execution_count": 22,
   "metadata": {},
   "outputs": [
    {
     "data": {
      "text/plain": [
       "0.4285714285714286"
      ]
     },
     "execution_count": 22,
     "metadata": {},
     "output_type": "execute_result"
    }
   ],
   "source": [
    "stats.kendalltau(res_imd, clusters_list).correlation"
   ]
  },
  {
   "cell_type": "code",
   "execution_count": 26,
   "metadata": {},
   "outputs": [
    {
     "data": {
      "image/png": "[encoded data removed]",
      "text/plain": [
       "<Figure size 324x108 with 1 Axes>"
      ]
     },
     "metadata": {
      "needs_background": "light"
     },
     "output_type": "display_data"
    }
   ],
   "source": [
    "fig, ax = plt.subplots(1, 1)\n",
    "\n",
    "fig.set_size_inches((4.5, 1.5))\n",
    "ax.set_ylim(0.0, 0.5)\n",
    "ax.set_xlabel('#clusters')\n",
    "plt.title('SVCCA')\n",
    "plt.plot(clusters_list, res_svcca[:len(clusters_list)], 'o-')\n",
    "plt.show()"
   ]
  },
  {
   "cell_type": "code",
   "execution_count": 24,
   "metadata": {},
   "outputs": [
    {
     "data": {
      "text/plain": [
       "0.14285714285714288"
      ]
     },
     "execution_count": 24,
     "metadata": {},
     "output_type": "execute_result"
    }
   ],
   "source": [
    "stats.kendalltau(res_svcca, clusters_list).correlation"
   ]
  }
 ],
 "metadata": {
  "kernelspec": {
   "display_name": "Python 3",
   "language": "python",
   "name": "python3"
  },
  "language_info": {
   "codemirror_mode": {
    "name": "ipython",
    "version": 3
   },
   "file_extension": ".py",
   "mimetype": "text/x-python",
   "name": "python",
   "nbconvert_exporter": "python",
   "pygments_lexer": "ipython3",
   "version": "3.7.10"
  }
 },
 "nbformat": 4,
 "nbformat_minor": 4
}
